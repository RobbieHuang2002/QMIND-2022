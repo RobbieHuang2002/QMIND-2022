{
 "cells": [
  {
   "attachments": {},
   "cell_type": "markdown",
   "metadata": {},
   "source": [
    "## Normalizing Data"
   ]
  },
  {
   "cell_type": "code",
   "execution_count": 1,
   "metadata": {},
   "outputs": [],
   "source": [
    "import os\n",
    "import warnings\n",
    "\n",
    "import pandas as pd\n",
    "import numpy as np\n",
    "\n",
    "#torchvision library\n",
    "import torch\n",
    "from torchvision.transforms import transforms\n",
    "from torch.utils.data import DataLoader"
   ]
  },
  {
   "attachments": {},
   "cell_type": "markdown",
   "metadata": {},
   "source": [
    "## Splitting Train and Test Data"
   ]
  },
  {
   "cell_type": "code",
   "execution_count": 7,
   "metadata": {},
   "outputs": [
    {
     "name": "stdout",
     "output_type": "stream",
     "text": [
      "      image  numbr_likes\n",
      "0         5          138\n",
      "1         6          389\n",
      "2         8          127\n",
      "3         9          154\n",
      "4        10          114\n",
      "...     ...          ...\n",
      "4995   8361         2637\n",
      "4996   8362          910\n",
      "4997   8363         1484\n",
      "4998   8364            0\n",
      "4999   8365            0\n",
      "\n",
      "[5000 rows x 2 columns]\n"
     ]
    }
   ],
   "source": [
    "df = pd.read_csv('./instagram-images-5000/likes.csv')\n",
    "\n",
    "\n",
    "data = ''\n",
    "\n",
    "with open('./instagram-images-5000/likes.csv') as file:\n",
    "     data = file.read().replace(\"\\t\", \",\")\n",
    "\n",
    "with open('./instagram-images-5000/likes.csv', 'w') as file:\n",
    "     file.write(data)\n",
    "\n",
    "df = pd.read_csv('./instagram-images-5000/likes.csv')\n",
    "\n",
    "print(df)"
   ]
  }
 ],
 "metadata": {
  "kernelspec": {
   "display_name": "Python 3",
   "language": "python",
   "name": "python3"
  },
  "language_info": {
   "codemirror_mode": {
    "name": "ipython",
    "version": 3
   },
   "file_extension": ".py",
   "mimetype": "text/x-python",
   "name": "python",
   "nbconvert_exporter": "python",
   "pygments_lexer": "ipython3",
   "version": "3.10.6"
  },
  "orig_nbformat": 4,
  "vscode": {
   "interpreter": {
    "hash": "916dbcbb3f70747c44a77c7bcd40155683ae19c65e1c03b4aa3499c5328201f1"
   }
  }
 },
 "nbformat": 4,
 "nbformat_minor": 2
}
